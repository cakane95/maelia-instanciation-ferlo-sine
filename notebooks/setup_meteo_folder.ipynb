{
 "cells": [
  {
   "cell_type": "markdown",
   "id": "67348ada-e963-43af-a8f2-dfd873241dd6",
   "metadata": {},
   "source": [
    "**Notebook** : setup_meteo_folder.ipynb\n",
    "\n",
    "**Description** : Préparation du dossier meteo/ pour diohine/modeleCommun"
   ]
  },
  {
   "cell_type": "code",
   "execution_count": 34,
   "id": "5196ce0c-f258-4f08-8520-78daf4c28ff1",
   "metadata": {},
   "outputs": [],
   "source": [
    "from pathlib import Path\n",
    "import pandas as pd\n",
    "import geopandas as gpd\n",
    "from typing import List, Union"
   ]
  },
  {
   "cell_type": "markdown",
   "id": "2c7b51ce-3cde-4409-8c3d-be269e263158",
   "metadata": {},
   "source": [
    "## 1. Creation des dossiers `meteo/` et `meteo/simulee/` dans le dossier `diohine/modeleCommun`"
   ]
  },
  {
   "cell_type": "code",
   "execution_count": 2,
   "id": "a9a607bd-104a-45b4-96d5-e04ff00680c4",
   "metadata": {},
   "outputs": [],
   "source": [
    "# Définir le chemin de base du projet\n",
    "base_dir = Path.cwd().parent.resolve()\n",
    "\n",
    "# Définir les chemins spécifiques\n",
    "meteo_dir = base_dir / \"diohine\" / \"modeleCommun\" / \"meteo\"\n",
    "simulee_dir = meteo_dir / \"simulee\""
   ]
  },
  {
   "cell_type": "code",
   "execution_count": 3,
   "id": "3d32ccd2-cd01-40f6-a0b8-4b7748f4532a",
   "metadata": {},
   "outputs": [
    {
     "name": "stdout",
     "output_type": "stream",
     "text": [
      "Création du dossier : C:\\Users\\Cheikhou\\Desktop\\Ferlo_Sine\\maelia-instanciation-ferlo-sine\\diohine\\modeleCommun\\meteo\n"
     ]
    }
   ],
   "source": [
    "# Créer meteo/ s'il n'existe pas\n",
    "if not meteo_dir.exists():\n",
    "    meteo_dir.mkdir(parents=True, exist_ok=True)\n",
    "    print(f\"Création du dossier : {meteo_dir}\")\n",
    "else:\n",
    "    print(f\"Dossier déjà existant : {meteo_dir}\")"
   ]
  },
  {
   "cell_type": "code",
   "execution_count": 4,
   "id": "5bfa7d7b-48d5-4fd5-ad30-962af9e26b5d",
   "metadata": {},
   "outputs": [
    {
     "name": "stdout",
     "output_type": "stream",
     "text": [
      "Création du dossier : C:\\Users\\Cheikhou\\Desktop\\Ferlo_Sine\\maelia-instanciation-ferlo-sine\\diohine\\modeleCommun\\meteo\\simulee\n"
     ]
    }
   ],
   "source": [
    "# Créer simulee/ s'il n'existe pas\n",
    "if not simulee_dir.exists():\n",
    "    simulee_dir.mkdir(parents=True, exist_ok=True)\n",
    "    print(f\"Création du dossier : {simulee_dir}\")\n",
    "else:\n",
    "    print(f\"Dossier déjà existant : {simulee_dir}\")"
   ]
  },
  {
   "cell_type": "code",
   "execution_count": 5,
   "id": "33fe3708-72bb-498e-b8ac-81273d5718a9",
   "metadata": {},
   "outputs": [
    {
     "name": "stdout",
     "output_type": "stream",
     "text": [
      "\n",
      "Structure prévue :\n",
      "- C:\\Users\\Cheikhou\\Desktop\\Ferlo_Sine\\maelia-instanciation-ferlo-sine\\diohine\\modeleCommun\\meteo\n",
      "- C:\\Users\\Cheikhou\\Desktop\\Ferlo_Sine\\maelia-instanciation-ferlo-sine\\diohine\\modeleCommun\\meteo\\simulee\n"
     ]
    }
   ],
   "source": [
    "# Résumé de la situation\n",
    "print(\"\\nStructure prévue :\")\n",
    "print(f\"- {meteo_dir}\")\n",
    "print(f\"- {simulee_dir}\")"
   ]
  },
  {
   "cell_type": "markdown",
   "id": "f8b936b7-444b-4c8b-ae86-74b9742d5ed5",
   "metadata": {},
   "source": [
    "## 2. Data Cleaning des donnees climatiques brutes issues de CRNM-ESM2-1"
   ]
  },
  {
   "cell_type": "markdown",
   "id": "0d73b534-022c-4a1e-b7f0-5755ea8d326b",
   "metadata": {},
   "source": [
    "### 2.1. Exploratory Data Analysis"
   ]
  },
  {
   "cell_type": "code",
   "execution_count": 12,
   "id": "1b191f5f-d914-44f1-9bb4-c7f19584a5a4",
   "metadata": {},
   "outputs": [
    {
     "data": {
      "text/html": [
       "<div>\n",
       "<style scoped>\n",
       "    .dataframe tbody tr th:only-of-type {\n",
       "        vertical-align: middle;\n",
       "    }\n",
       "\n",
       "    .dataframe tbody tr th {\n",
       "        vertical-align: top;\n",
       "    }\n",
       "\n",
       "    .dataframe thead th {\n",
       "        text-align: right;\n",
       "    }\n",
       "</style>\n",
       "<table border=\"1\" class=\"dataframe\">\n",
       "  <thead>\n",
       "    <tr style=\"text-align: right;\">\n",
       "      <th></th>\n",
       "      <th>time</th>\n",
       "      <th>rsds</th>\n",
       "      <th>tasmin</th>\n",
       "      <th>tasmax</th>\n",
       "      <th>hurs</th>\n",
       "      <th>sfcWind</th>\n",
       "      <th>pr</th>\n",
       "    </tr>\n",
       "  </thead>\n",
       "  <tbody>\n",
       "    <tr>\n",
       "      <th>0</th>\n",
       "      <td>date</td>\n",
       "      <td>W/m2</td>\n",
       "      <td>Celsius</td>\n",
       "      <td>Celsius</td>\n",
       "      <td>%</td>\n",
       "      <td>m/s</td>\n",
       "      <td>mm/day</td>\n",
       "    </tr>\n",
       "    <tr>\n",
       "      <th>1</th>\n",
       "      <td>1950-01-01 12:00:00</td>\n",
       "      <td>271.7951354980469</td>\n",
       "      <td>17.899871826171875</td>\n",
       "      <td>34.546234130859375</td>\n",
       "      <td>26.503536224365234</td>\n",
       "      <td>5.849405765533447</td>\n",
       "      <td>0.0</td>\n",
       "    </tr>\n",
       "    <tr>\n",
       "      <th>2</th>\n",
       "      <td>1950-01-02 12:00:00</td>\n",
       "      <td>273.6487121582031</td>\n",
       "      <td>16.197845458984375</td>\n",
       "      <td>34.462249755859375</td>\n",
       "      <td>29.381072998046875</td>\n",
       "      <td>4.4467082023620605</td>\n",
       "      <td>0.0</td>\n",
       "    </tr>\n",
       "    <tr>\n",
       "      <th>3</th>\n",
       "      <td>1950-01-03 12:00:00</td>\n",
       "      <td>272.430908203125</td>\n",
       "      <td>12.836456298828125</td>\n",
       "      <td>35.140869140625</td>\n",
       "      <td>33.332759857177734</td>\n",
       "      <td>2.7305986881256104</td>\n",
       "      <td>0.0</td>\n",
       "    </tr>\n",
       "    <tr>\n",
       "      <th>4</th>\n",
       "      <td>1950-01-04 12:00:00</td>\n",
       "      <td>268.4210205078125</td>\n",
       "      <td>13.605072021484375</td>\n",
       "      <td>34.72869873046875</td>\n",
       "      <td>41.25194549560547</td>\n",
       "      <td>2.702117681503296</td>\n",
       "      <td>0.0</td>\n",
       "    </tr>\n",
       "  </tbody>\n",
       "</table>\n",
       "</div>"
      ],
      "text/plain": [
       "                  time               rsds              tasmin  \\\n",
       "0                 date               W/m2             Celsius   \n",
       "1  1950-01-01 12:00:00  271.7951354980469  17.899871826171875   \n",
       "2  1950-01-02 12:00:00  273.6487121582031  16.197845458984375   \n",
       "3  1950-01-03 12:00:00   272.430908203125  12.836456298828125   \n",
       "4  1950-01-04 12:00:00  268.4210205078125  13.605072021484375   \n",
       "\n",
       "               tasmax                hurs             sfcWind      pr  \n",
       "0             Celsius                   %                 m/s  mm/day  \n",
       "1  34.546234130859375  26.503536224365234   5.849405765533447     0.0  \n",
       "2  34.462249755859375  29.381072998046875  4.4467082023620605     0.0  \n",
       "3     35.140869140625  33.332759857177734  2.7305986881256104     0.0  \n",
       "4   34.72869873046875   41.25194549560547   2.702117681503296     0.0  "
      ]
     },
     "execution_count": 12,
     "metadata": {},
     "output_type": "execute_result"
    }
   ],
   "source": [
    "# Définir manuellement le chemin vers le fichier\n",
    "fichier_climat = base_dir / \"data\" / \"climat\" / \"niakharData\" / \"CNRM-ESM2-1_ssp126.csv\"\n",
    "\n",
    "# Lire le fichier\n",
    "df = pd.read_csv(fichier_climat, sep=\",\")  # Ajuste le séparateur si besoin\n",
    "\n",
    "# Afficher les 5 premières lignes\n",
    "df.head()"
   ]
  },
  {
   "cell_type": "code",
   "execution_count": 10,
   "id": "b6e264b4-e619-4a86-a66b-1ecce5fa487b",
   "metadata": {},
   "outputs": [
    {
     "data": {
      "text/plain": [
       "Index(['time', 'rsds', 'tasmin', 'tasmax', 'hurs', 'sfcWind', 'pr'], dtype='object')"
      ]
     },
     "execution_count": 10,
     "metadata": {},
     "output_type": "execute_result"
    }
   ],
   "source": [
    "df.columns"
   ]
  },
  {
   "cell_type": "code",
   "execution_count": 13,
   "id": "9341fd85-ec54-4d1e-8be9-d9b3b76126f3",
   "metadata": {},
   "outputs": [
    {
     "data": {
      "text/plain": [
       "time       object\n",
       "rsds       object\n",
       "tasmin     object\n",
       "tasmax     object\n",
       "hurs       object\n",
       "sfcWind    object\n",
       "pr         object\n",
       "dtype: object"
      ]
     },
     "execution_count": 13,
     "metadata": {},
     "output_type": "execute_result"
    }
   ],
   "source": [
    "df.dtypes"
   ]
  },
  {
   "cell_type": "code",
   "execution_count": 15,
   "id": "0244cfcb-a9fd-4b24-b04b-45487b9b029b",
   "metadata": {},
   "outputs": [
    {
     "data": {
      "text/html": [
       "<div>\n",
       "<style scoped>\n",
       "    .dataframe tbody tr th:only-of-type {\n",
       "        vertical-align: middle;\n",
       "    }\n",
       "\n",
       "    .dataframe tbody tr th {\n",
       "        vertical-align: top;\n",
       "    }\n",
       "\n",
       "    .dataframe thead th {\n",
       "        text-align: right;\n",
       "    }\n",
       "</style>\n",
       "<table border=\"1\" class=\"dataframe\">\n",
       "  <thead>\n",
       "    <tr style=\"text-align: right;\">\n",
       "      <th></th>\n",
       "      <th>time</th>\n",
       "      <th>rsds</th>\n",
       "      <th>tasmin</th>\n",
       "      <th>tasmax</th>\n",
       "      <th>hurs</th>\n",
       "      <th>sfcWind</th>\n",
       "      <th>pr</th>\n",
       "    </tr>\n",
       "  </thead>\n",
       "  <tbody>\n",
       "    <tr>\n",
       "      <th>count</th>\n",
       "      <td>36891</td>\n",
       "      <td>36891</td>\n",
       "      <td>36891</td>\n",
       "      <td>36891</td>\n",
       "      <td>36891</td>\n",
       "      <td>36891</td>\n",
       "      <td>36891</td>\n",
       "    </tr>\n",
       "    <tr>\n",
       "      <th>unique</th>\n",
       "      <td>36891</td>\n",
       "      <td>36781</td>\n",
       "      <td>35123</td>\n",
       "      <td>34352</td>\n",
       "      <td>36834</td>\n",
       "      <td>36827</td>\n",
       "      <td>11415</td>\n",
       "    </tr>\n",
       "    <tr>\n",
       "      <th>top</th>\n",
       "      <td>2050-12-31 12:00:00</td>\n",
       "      <td>331.67315673828125</td>\n",
       "      <td>24.517486572265625</td>\n",
       "      <td>34.53302001953125</td>\n",
       "      <td>82.84820556640625</td>\n",
       "      <td>3.3301892280578613</td>\n",
       "      <td>0.0</td>\n",
       "    </tr>\n",
       "    <tr>\n",
       "      <th>freq</th>\n",
       "      <td>1</td>\n",
       "      <td>2</td>\n",
       "      <td>4</td>\n",
       "      <td>4</td>\n",
       "      <td>2</td>\n",
       "      <td>2</td>\n",
       "      <td>25475</td>\n",
       "    </tr>\n",
       "  </tbody>\n",
       "</table>\n",
       "</div>"
      ],
      "text/plain": [
       "                       time                rsds              tasmin  \\\n",
       "count                 36891               36891               36891   \n",
       "unique                36891               36781               35123   \n",
       "top     2050-12-31 12:00:00  331.67315673828125  24.517486572265625   \n",
       "freq                      1                   2                   4   \n",
       "\n",
       "                   tasmax               hurs             sfcWind     pr  \n",
       "count               36891              36891               36891  36891  \n",
       "unique              34352              36834               36827  11415  \n",
       "top     34.53302001953125  82.84820556640625  3.3301892280578613    0.0  \n",
       "freq                    4                  2                   2  25475  "
      ]
     },
     "execution_count": 15,
     "metadata": {},
     "output_type": "execute_result"
    }
   ],
   "source": [
    "df.describe()"
   ]
  },
  {
   "cell_type": "code",
   "execution_count": 16,
   "id": "e0982d49-afc0-4900-8166-29b99d26b99f",
   "metadata": {},
   "outputs": [
    {
     "data": {
      "text/html": [
       "<div>\n",
       "<style scoped>\n",
       "    .dataframe tbody tr th:only-of-type {\n",
       "        vertical-align: middle;\n",
       "    }\n",
       "\n",
       "    .dataframe tbody tr th {\n",
       "        vertical-align: top;\n",
       "    }\n",
       "\n",
       "    .dataframe thead th {\n",
       "        text-align: right;\n",
       "    }\n",
       "</style>\n",
       "<table border=\"1\" class=\"dataframe\">\n",
       "  <thead>\n",
       "    <tr style=\"text-align: right;\">\n",
       "      <th></th>\n",
       "      <th>time</th>\n",
       "      <th>rsds</th>\n",
       "      <th>tasmin</th>\n",
       "      <th>tasmax</th>\n",
       "      <th>hurs</th>\n",
       "      <th>sfcWind</th>\n",
       "      <th>pr</th>\n",
       "    </tr>\n",
       "  </thead>\n",
       "  <tbody>\n",
       "    <tr>\n",
       "      <th>5662</th>\n",
       "      <td>1965-07-02 12:00:00</td>\n",
       "      <td>248.86489868164062</td>\n",
       "      <td>23.81201171875</td>\n",
       "      <td>33.266632080078125</td>\n",
       "      <td>77.70514678955078</td>\n",
       "      <td>4.259986400604248</td>\n",
       "      <td>1.5882435603998601</td>\n",
       "    </tr>\n",
       "    <tr>\n",
       "      <th>11805</th>\n",
       "      <td>1982-04-27 12:00:00</td>\n",
       "      <td>357.9740905761719</td>\n",
       "      <td>17.611846923828125</td>\n",
       "      <td>37.336151123046875</td>\n",
       "      <td>47.61207962036133</td>\n",
       "      <td>2.7390637397766113</td>\n",
       "      <td>0.0</td>\n",
       "    </tr>\n",
       "    <tr>\n",
       "      <th>15201</th>\n",
       "      <td>1991-08-14 12:00:00</td>\n",
       "      <td>236.53253173828125</td>\n",
       "      <td>24.1866455078125</td>\n",
       "      <td>31.469390869140625</td>\n",
       "      <td>86.41510772705078</td>\n",
       "      <td>2.6207427978515625</td>\n",
       "      <td>4.613034788053483</td>\n",
       "    </tr>\n",
       "    <tr>\n",
       "      <th>25198</th>\n",
       "      <td>2018-12-27 12:00:00</td>\n",
       "      <td>235.9857940673828</td>\n",
       "      <td>21.143035888671875</td>\n",
       "      <td>35.261993408203125</td>\n",
       "      <td>39.1005744934082</td>\n",
       "      <td>5.169499397277832</td>\n",
       "      <td>0.0</td>\n",
       "    </tr>\n",
       "    <tr>\n",
       "      <th>24618</th>\n",
       "      <td>2017-05-26 12:00:00</td>\n",
       "      <td>349.20489501953125</td>\n",
       "      <td>24.959930419921875</td>\n",
       "      <td>38.21331787109375</td>\n",
       "      <td>60.6336555480957</td>\n",
       "      <td>4.807073593139648</td>\n",
       "      <td>0.0</td>\n",
       "    </tr>\n",
       "    <tr>\n",
       "      <th>18526</th>\n",
       "      <td>2000-09-20 12:00:00</td>\n",
       "      <td>272.7701110839844</td>\n",
       "      <td>23.318634033203125</td>\n",
       "      <td>32.276153564453125</td>\n",
       "      <td>83.2411880493164</td>\n",
       "      <td>4.059689998626709</td>\n",
       "      <td>1.0703166743041947</td>\n",
       "    </tr>\n",
       "    <tr>\n",
       "      <th>32120</th>\n",
       "      <td>2037-12-09 12:00:00</td>\n",
       "      <td>231.59243774414062</td>\n",
       "      <td>19.354400634765625</td>\n",
       "      <td>33.470245361328125</td>\n",
       "      <td>48.097373962402344</td>\n",
       "      <td>4.486200332641602</td>\n",
       "      <td>0.0</td>\n",
       "    </tr>\n",
       "    <tr>\n",
       "      <th>5375</th>\n",
       "      <td>1964-09-18 12:00:00</td>\n",
       "      <td>236.5559539794922</td>\n",
       "      <td>23.13763427734375</td>\n",
       "      <td>30.803375244140625</td>\n",
       "      <td>89.35624694824219</td>\n",
       "      <td>3.3309953212738037</td>\n",
       "      <td>13.118197303265333</td>\n",
       "    </tr>\n",
       "    <tr>\n",
       "      <th>27294</th>\n",
       "      <td>2024-09-22 12:00:00</td>\n",
       "      <td>267.9747009277344</td>\n",
       "      <td>24.5523681640625</td>\n",
       "      <td>33.058837890625</td>\n",
       "      <td>81.36646270751953</td>\n",
       "      <td>2.6771817207336426</td>\n",
       "      <td>0.05194219556869939</td>\n",
       "    </tr>\n",
       "    <tr>\n",
       "      <th>430</th>\n",
       "      <td>1951-03-06 12:00:00</td>\n",
       "      <td>326.1204833984375</td>\n",
       "      <td>16.541259765625</td>\n",
       "      <td>32.185272216796875</td>\n",
       "      <td>53.8969612121582</td>\n",
       "      <td>6.9023284912109375</td>\n",
       "      <td>0.0</td>\n",
       "    </tr>\n",
       "  </tbody>\n",
       "</table>\n",
       "</div>"
      ],
      "text/plain": [
       "                      time                rsds              tasmin  \\\n",
       "5662   1965-07-02 12:00:00  248.86489868164062      23.81201171875   \n",
       "11805  1982-04-27 12:00:00   357.9740905761719  17.611846923828125   \n",
       "15201  1991-08-14 12:00:00  236.53253173828125    24.1866455078125   \n",
       "25198  2018-12-27 12:00:00   235.9857940673828  21.143035888671875   \n",
       "24618  2017-05-26 12:00:00  349.20489501953125  24.959930419921875   \n",
       "18526  2000-09-20 12:00:00   272.7701110839844  23.318634033203125   \n",
       "32120  2037-12-09 12:00:00  231.59243774414062  19.354400634765625   \n",
       "5375   1964-09-18 12:00:00   236.5559539794922   23.13763427734375   \n",
       "27294  2024-09-22 12:00:00   267.9747009277344    24.5523681640625   \n",
       "430    1951-03-06 12:00:00   326.1204833984375     16.541259765625   \n",
       "\n",
       "                   tasmax                hurs             sfcWind  \\\n",
       "5662   33.266632080078125   77.70514678955078   4.259986400604248   \n",
       "11805  37.336151123046875   47.61207962036133  2.7390637397766113   \n",
       "15201  31.469390869140625   86.41510772705078  2.6207427978515625   \n",
       "25198  35.261993408203125    39.1005744934082   5.169499397277832   \n",
       "24618   38.21331787109375    60.6336555480957   4.807073593139648   \n",
       "18526  32.276153564453125    83.2411880493164   4.059689998626709   \n",
       "32120  33.470245361328125  48.097373962402344   4.486200332641602   \n",
       "5375   30.803375244140625   89.35624694824219  3.3309953212738037   \n",
       "27294     33.058837890625   81.36646270751953  2.6771817207336426   \n",
       "430    32.185272216796875    53.8969612121582  6.9023284912109375   \n",
       "\n",
       "                        pr  \n",
       "5662    1.5882435603998601  \n",
       "11805                  0.0  \n",
       "15201    4.613034788053483  \n",
       "25198                  0.0  \n",
       "24618                  0.0  \n",
       "18526   1.0703166743041947  \n",
       "32120                  0.0  \n",
       "5375    13.118197303265333  \n",
       "27294  0.05194219556869939  \n",
       "430                    0.0  "
      ]
     },
     "execution_count": 16,
     "metadata": {},
     "output_type": "execute_result"
    }
   ],
   "source": [
    "df.sample(10)"
   ]
  },
  {
   "cell_type": "markdown",
   "id": "319f9f18-25f7-4870-bbd4-d12a9eb49aae",
   "metadata": {},
   "source": [
    "### 2.2. Nettoyage des donnees"
   ]
  },
  {
   "cell_type": "code",
   "execution_count": 20,
   "id": "e9f36d2c-d15a-4d26-8250-603d00651ef6",
   "metadata": {},
   "outputs": [],
   "source": [
    "# Définir les chemins\n",
    "input_dir = base_dir / \"data\" / \"climat\" / \"niakharData\"\n",
    "output_dir = base_dir / \"data\" / \"climat\" / \"processed\"\n",
    "\n",
    "# Créer output_dir s'il n'existe pas\n",
    "output_dir.mkdir(parents=True, exist_ok=True)\n",
    "\n",
    "# Charger le fichier climat brut\n",
    "fichier_climat = input_dir / \"CNRM-ESM2-1_ssp126.csv\"\n",
    "\n",
    "df_raw = pd.read_csv(fichier_climat, sep=\",\")"
   ]
  },
  {
   "cell_type": "code",
   "execution_count": 21,
   "id": "10077527-21d1-45ac-8725-aaafe72bd38d",
   "metadata": {},
   "outputs": [
    {
     "name": "stdout",
     "output_type": "stream",
     "text": [
      "Colonnes d'origine : ['time', 'rsds', 'tasmin', 'tasmax', 'hurs', 'sfcWind', 'pr']\n",
      "Premières lignes :\n"
     ]
    },
    {
     "data": {
      "text/html": [
       "<div>\n",
       "<style scoped>\n",
       "    .dataframe tbody tr th:only-of-type {\n",
       "        vertical-align: middle;\n",
       "    }\n",
       "\n",
       "    .dataframe tbody tr th {\n",
       "        vertical-align: top;\n",
       "    }\n",
       "\n",
       "    .dataframe thead th {\n",
       "        text-align: right;\n",
       "    }\n",
       "</style>\n",
       "<table border=\"1\" class=\"dataframe\">\n",
       "  <thead>\n",
       "    <tr style=\"text-align: right;\">\n",
       "      <th></th>\n",
       "      <th>time</th>\n",
       "      <th>rsds</th>\n",
       "      <th>tasmin</th>\n",
       "      <th>tasmax</th>\n",
       "      <th>hurs</th>\n",
       "      <th>sfcWind</th>\n",
       "      <th>pr</th>\n",
       "    </tr>\n",
       "  </thead>\n",
       "  <tbody>\n",
       "    <tr>\n",
       "      <th>0</th>\n",
       "      <td>date</td>\n",
       "      <td>W/m2</td>\n",
       "      <td>Celsius</td>\n",
       "      <td>Celsius</td>\n",
       "      <td>%</td>\n",
       "      <td>m/s</td>\n",
       "      <td>mm/day</td>\n",
       "    </tr>\n",
       "    <tr>\n",
       "      <th>1</th>\n",
       "      <td>1950-01-01 12:00:00</td>\n",
       "      <td>271.7951354980469</td>\n",
       "      <td>17.899871826171875</td>\n",
       "      <td>34.546234130859375</td>\n",
       "      <td>26.503536224365234</td>\n",
       "      <td>5.849405765533447</td>\n",
       "      <td>0.0</td>\n",
       "    </tr>\n",
       "    <tr>\n",
       "      <th>2</th>\n",
       "      <td>1950-01-02 12:00:00</td>\n",
       "      <td>273.6487121582031</td>\n",
       "      <td>16.197845458984375</td>\n",
       "      <td>34.462249755859375</td>\n",
       "      <td>29.381072998046875</td>\n",
       "      <td>4.4467082023620605</td>\n",
       "      <td>0.0</td>\n",
       "    </tr>\n",
       "    <tr>\n",
       "      <th>3</th>\n",
       "      <td>1950-01-03 12:00:00</td>\n",
       "      <td>272.430908203125</td>\n",
       "      <td>12.836456298828125</td>\n",
       "      <td>35.140869140625</td>\n",
       "      <td>33.332759857177734</td>\n",
       "      <td>2.7305986881256104</td>\n",
       "      <td>0.0</td>\n",
       "    </tr>\n",
       "    <tr>\n",
       "      <th>4</th>\n",
       "      <td>1950-01-04 12:00:00</td>\n",
       "      <td>268.4210205078125</td>\n",
       "      <td>13.605072021484375</td>\n",
       "      <td>34.72869873046875</td>\n",
       "      <td>41.25194549560547</td>\n",
       "      <td>2.702117681503296</td>\n",
       "      <td>0.0</td>\n",
       "    </tr>\n",
       "  </tbody>\n",
       "</table>\n",
       "</div>"
      ],
      "text/plain": [
       "                  time               rsds              tasmin  \\\n",
       "0                 date               W/m2             Celsius   \n",
       "1  1950-01-01 12:00:00  271.7951354980469  17.899871826171875   \n",
       "2  1950-01-02 12:00:00  273.6487121582031  16.197845458984375   \n",
       "3  1950-01-03 12:00:00   272.430908203125  12.836456298828125   \n",
       "4  1950-01-04 12:00:00  268.4210205078125  13.605072021484375   \n",
       "\n",
       "               tasmax                hurs             sfcWind      pr  \n",
       "0             Celsius                   %                 m/s  mm/day  \n",
       "1  34.546234130859375  26.503536224365234   5.849405765533447     0.0  \n",
       "2  34.462249755859375  29.381072998046875  4.4467082023620605     0.0  \n",
       "3     35.140869140625  33.332759857177734  2.7305986881256104     0.0  \n",
       "4   34.72869873046875   41.25194549560547   2.702117681503296     0.0  "
      ]
     },
     "metadata": {},
     "output_type": "display_data"
    }
   ],
   "source": [
    "# Affichage rapide pour vérifier\n",
    "print(\"Colonnes d'origine :\", df_raw.columns.tolist())\n",
    "print(\"Premières lignes :\")\n",
    "display(df_raw.head())"
   ]
  },
  {
   "cell_type": "code",
   "execution_count": 22,
   "id": "963d8470-c42d-42a1-a3bc-daf104e6515d",
   "metadata": {},
   "outputs": [],
   "source": [
    "# Supprimer la première ligne (unités)\n",
    "df_clean = df_raw.drop(index=0).reset_index(drop=True)\n",
    "\n",
    "# Parser la colonne 'time' en datetime\n",
    "df_clean[\"time\"] = pd.to_datetime(df_clean[\"time\"], format=\"%Y-%m-%d %H:%M:%S\")\n",
    "\n",
    "# Conversion des colonnes numériques\n",
    "cols_to_convert = [\"rsds\", \"tasmin\", \"tasmax\", \"hurs\", \"sfcWind\", \"pr\"]\n",
    "for col in cols_to_convert:\n",
    "    df_clean[col] = df_clean[col].astype(float)\n",
    "\n",
    "# Renommage des colonnes\n",
    "df_clean = df_clean.rename(columns={\n",
    "    \"time\": \"DATE\",\n",
    "    \"pr\": \"RRmm\",\n",
    "    \"tasmin\": \"Tmin\",\n",
    "    \"tasmax\": \"Tmax\",\n",
    "    \"rsds\": \"RGI\"\n",
    "})"
   ]
  },
  {
   "cell_type": "code",
   "execution_count": 24,
   "id": "21ea19b6-0956-4e1d-83f9-1bb1f2eaa857",
   "metadata": {},
   "outputs": [
    {
     "name": "stdout",
     "output_type": "stream",
     "text": [
      "Colonnes d'origine : ['DATE', 'RGI', 'Tmin', 'Tmax', 'hurs', 'sfcWind', 'RRmm']\n",
      "Premières lignes :\n"
     ]
    },
    {
     "data": {
      "text/html": [
       "<div>\n",
       "<style scoped>\n",
       "    .dataframe tbody tr th:only-of-type {\n",
       "        vertical-align: middle;\n",
       "    }\n",
       "\n",
       "    .dataframe tbody tr th {\n",
       "        vertical-align: top;\n",
       "    }\n",
       "\n",
       "    .dataframe thead th {\n",
       "        text-align: right;\n",
       "    }\n",
       "</style>\n",
       "<table border=\"1\" class=\"dataframe\">\n",
       "  <thead>\n",
       "    <tr style=\"text-align: right;\">\n",
       "      <th></th>\n",
       "      <th>DATE</th>\n",
       "      <th>RGI</th>\n",
       "      <th>Tmin</th>\n",
       "      <th>Tmax</th>\n",
       "      <th>hurs</th>\n",
       "      <th>sfcWind</th>\n",
       "      <th>RRmm</th>\n",
       "    </tr>\n",
       "  </thead>\n",
       "  <tbody>\n",
       "    <tr>\n",
       "      <th>0</th>\n",
       "      <td>1950-01-01 12:00:00</td>\n",
       "      <td>271.795135</td>\n",
       "      <td>17.899872</td>\n",
       "      <td>34.546234</td>\n",
       "      <td>26.503536</td>\n",
       "      <td>5.849406</td>\n",
       "      <td>0.0</td>\n",
       "    </tr>\n",
       "    <tr>\n",
       "      <th>1</th>\n",
       "      <td>1950-01-02 12:00:00</td>\n",
       "      <td>273.648712</td>\n",
       "      <td>16.197845</td>\n",
       "      <td>34.462250</td>\n",
       "      <td>29.381073</td>\n",
       "      <td>4.446708</td>\n",
       "      <td>0.0</td>\n",
       "    </tr>\n",
       "    <tr>\n",
       "      <th>2</th>\n",
       "      <td>1950-01-03 12:00:00</td>\n",
       "      <td>272.430908</td>\n",
       "      <td>12.836456</td>\n",
       "      <td>35.140869</td>\n",
       "      <td>33.332760</td>\n",
       "      <td>2.730599</td>\n",
       "      <td>0.0</td>\n",
       "    </tr>\n",
       "    <tr>\n",
       "      <th>3</th>\n",
       "      <td>1950-01-04 12:00:00</td>\n",
       "      <td>268.421021</td>\n",
       "      <td>13.605072</td>\n",
       "      <td>34.728699</td>\n",
       "      <td>41.251945</td>\n",
       "      <td>2.702118</td>\n",
       "      <td>0.0</td>\n",
       "    </tr>\n",
       "    <tr>\n",
       "      <th>4</th>\n",
       "      <td>1950-01-05 12:00:00</td>\n",
       "      <td>265.328827</td>\n",
       "      <td>14.521393</td>\n",
       "      <td>34.071106</td>\n",
       "      <td>45.360634</td>\n",
       "      <td>3.337594</td>\n",
       "      <td>0.0</td>\n",
       "    </tr>\n",
       "  </tbody>\n",
       "</table>\n",
       "</div>"
      ],
      "text/plain": [
       "                 DATE         RGI       Tmin       Tmax       hurs   sfcWind  \\\n",
       "0 1950-01-01 12:00:00  271.795135  17.899872  34.546234  26.503536  5.849406   \n",
       "1 1950-01-02 12:00:00  273.648712  16.197845  34.462250  29.381073  4.446708   \n",
       "2 1950-01-03 12:00:00  272.430908  12.836456  35.140869  33.332760  2.730599   \n",
       "3 1950-01-04 12:00:00  268.421021  13.605072  34.728699  41.251945  2.702118   \n",
       "4 1950-01-05 12:00:00  265.328827  14.521393  34.071106  45.360634  3.337594   \n",
       "\n",
       "   RRmm  \n",
       "0   0.0  \n",
       "1   0.0  \n",
       "2   0.0  \n",
       "3   0.0  \n",
       "4   0.0  "
      ]
     },
     "metadata": {},
     "output_type": "display_data"
    }
   ],
   "source": [
    "# Affichage rapide pour vérifier\n",
    "print(\"Colonnes d'origine :\", df_clean.columns.tolist())\n",
    "print(\"Premières lignes :\")\n",
    "display(df_clean.head())"
   ]
  },
  {
   "cell_type": "markdown",
   "id": "0eff7975-6e58-4a42-a18c-64cdd4eebbc9",
   "metadata": {},
   "source": [
    "### 2.4. Approximation de l'ETP (formule simplifiée Hargreaves-Samani)"
   ]
  },
  {
   "cell_type": "code",
   "execution_count": 25,
   "id": "1af7cc4b-9683-4af0-81a7-3f025b908a73",
   "metadata": {},
   "outputs": [],
   "source": [
    "# Calcul ETP\n",
    "df_clean[\"ETP\"] = 0.0023 * ((df_clean[\"Tmax\"] - df_clean[\"Tmin\"]) ** 0.5) * (df_clean[\"Tmax\"] + df_clean[\"Tmin\"] + 17.8)"
   ]
  },
  {
   "cell_type": "markdown",
   "id": "7c78e653-a0b2-4a29-becf-2654da524ac8",
   "metadata": {},
   "source": [
    "### 2.5. Conversion RGI"
   ]
  },
  {
   "cell_type": "code",
   "execution_count": 26,
   "id": "5d1f339b-231a-46ef-a110-8f337c7bdf80",
   "metadata": {},
   "outputs": [],
   "source": [
    "# Conversion RGI (de W/m² vers MJ/m²/jour)\n",
    "df_clean[\"RGI\"] = (df_clean[\"RGI\"] * 86400) / 1_000_000"
   ]
  },
  {
   "cell_type": "markdown",
   "id": "198ce708-5ceb-47d2-929d-f26c3f8bec82",
   "metadata": {},
   "source": [
    "### 2.5. Sauvegrader dans `climat/processed/`"
   ]
  },
  {
   "cell_type": "code",
   "execution_count": 27,
   "id": "ce5abb17-a689-4f44-b39c-a99e8b9fe6ce",
   "metadata": {},
   "outputs": [
    {
     "name": "stdout",
     "output_type": "stream",
     "text": [
      "Fichier nettoyé sauvegardé ici : C:\\Users\\Cheikhou\\Desktop\\Ferlo_Sine\\maelia-instanciation-ferlo-sine\\data\\climat\\processed\\climat_diohine_clean_global.csv\n"
     ]
    }
   ],
   "source": [
    "# Réorganiser les colonnes selon ordre documentation\n",
    "# (Pas encore d'ID_PDG pour l'instant, on l'ajoutera plus tard)\n",
    "\n",
    "# Reformater la date au format DD/MM/YYYY\n",
    "df_clean[\"DATE\"] = df_clean[\"DATE\"].dt.strftime(\"%d/%m/%Y\")\n",
    "\n",
    "df_clean = df_clean[[\"DATE\", \"RRmm\", \"Tmin\", \"Tmax\", \"ETP\", \"RGI\"]]\n",
    "\n",
    "output_file = output_dir / \"climat_diohine_clean_global.csv\"\n",
    "df_clean.to_csv(output_file, sep=\";\", index=False)\n",
    "\n",
    "print(f\"Fichier nettoyé sauvegardé ici : {output_file}\")"
   ]
  },
  {
   "cell_type": "markdown",
   "id": "301de331-a113-4541-9081-9d94ecd09b7a",
   "metadata": {},
   "source": [
    "## 3. Ajout des `ID_PDG`"
   ]
  },
  {
   "cell_type": "code",
   "execution_count": 35,
   "id": "b5f44a20-3eda-4000-a043-6b6f25407150",
   "metadata": {},
   "outputs": [],
   "source": [
    "## Helper Functions\n",
    "\n",
    "def extract_attributes_from_shapefile(\n",
    "    shapefile_path: Union[str, Path],\n",
    "    attributes: List[str],\n",
    "    include_geometry: bool = False\n",
    ") -> pd.DataFrame:\n",
    "    \"\"\"\n",
    "    Reads a shapefile and returns a DataFrame with the specified attributes.\n",
    "\n",
    "    Parameters:\n",
    "    - shapefile_path (str or Path): Path to the shapefile.\n",
    "    - attributes (List[str]): List of attribute column names to extract.\n",
    "    - include_geometry (bool): If True, includes the geometry column in the result.\n",
    "\n",
    "    Returns:\n",
    "    - pd.DataFrame: DataFrame containing the specified attributes (and geometry if requested).\n",
    "    \"\"\"\n",
    "    # Convert to Path object if necessary\n",
    "    shapefile_path = Path(shapefile_path)\n",
    "\n",
    "    # Read the shapefile\n",
    "    gdf = gpd.read_file(shapefile_path)\n",
    "\n",
    "    # Ensure all requested attributes exist in the shapefile\n",
    "    missing_attrs = [attr for attr in attributes if attr not in gdf.columns]\n",
    "    if missing_attrs:\n",
    "        raise ValueError(f\"The following attributes are not present in the shapefile: {missing_attrs}\")\n",
    "\n",
    "    # Select the desired columns\n",
    "    selected_columns = attributes.copy()\n",
    "    if include_geometry:\n",
    "        selected_columns.append(gdf.geometry.name)  # Typically 'geometry'\n",
    "\n",
    "    # Return the DataFrame with selected columns\n",
    "    return gdf[selected_columns]"
   ]
  },
  {
   "cell_type": "code",
   "execution_count": 36,
   "id": "b3703140-e9de-4e95-8219-6fe94cc9711a",
   "metadata": {},
   "outputs": [
    {
     "data": {
      "text/html": [
       "<div>\n",
       "<style scoped>\n",
       "    .dataframe tbody tr th:only-of-type {\n",
       "        vertical-align: middle;\n",
       "    }\n",
       "\n",
       "    .dataframe tbody tr th {\n",
       "        vertical-align: top;\n",
       "    }\n",
       "\n",
       "    .dataframe thead th {\n",
       "        text-align: right;\n",
       "    }\n",
       "</style>\n",
       "<table border=\"1\" class=\"dataframe\">\n",
       "  <thead>\n",
       "    <tr style=\"text-align: right;\">\n",
       "      <th></th>\n",
       "      <th>ID_PDG</th>\n",
       "    </tr>\n",
       "  </thead>\n",
       "  <tbody>\n",
       "    <tr>\n",
       "      <th>0</th>\n",
       "      <td>1</td>\n",
       "    </tr>\n",
       "    <tr>\n",
       "      <th>1</th>\n",
       "      <td>2</td>\n",
       "    </tr>\n",
       "    <tr>\n",
       "      <th>2</th>\n",
       "      <td>3</td>\n",
       "    </tr>\n",
       "    <tr>\n",
       "      <th>3</th>\n",
       "      <td>4</td>\n",
       "    </tr>\n",
       "    <tr>\n",
       "      <th>4</th>\n",
       "      <td>5</td>\n",
       "    </tr>\n",
       "  </tbody>\n",
       "</table>\n",
       "</div>"
      ],
      "text/plain": [
       "   ID_PDG\n",
       "0       1\n",
       "1       2\n",
       "2       3\n",
       "3       4\n",
       "4       5"
      ]
     },
     "execution_count": 36,
     "metadata": {},
     "output_type": "execute_result"
    }
   ],
   "source": [
    "# Définir le chemin du shapefile (corrigé)\n",
    "shapefile_path = base_dir / \"data\" / \"climat\" / \"shapefiles\" / \"Parcellaire_Diohine_2.shp\"\n",
    "\n",
    "# Définir les attributs à extraire\n",
    "attributes_to_extract = [\"ID_PDG\"]  # Adapter selon les besoins\n",
    "\n",
    "# Appeler la fonction\n",
    "df_attributes = extract_attributes_from_shapefile(shapefile_path, attributes_to_extract)\n",
    "\n",
    "# Afficher les premiers résultats\n",
    "df_attributes.head()"
   ]
  }
 ],
 "metadata": {
  "kernelspec": {
   "display_name": "Python 3 (ipykernel)",
   "language": "python",
   "name": "python3"
  },
  "language_info": {
   "codemirror_mode": {
    "name": "ipython",
    "version": 3
   },
   "file_extension": ".py",
   "mimetype": "text/x-python",
   "name": "python",
   "nbconvert_exporter": "python",
   "pygments_lexer": "ipython3",
   "version": "3.12.8"
  }
 },
 "nbformat": 4,
 "nbformat_minor": 5
}
